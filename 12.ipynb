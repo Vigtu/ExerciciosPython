{
 "cells": [
  {
   "cell_type": "markdown",
   "id": "9b9bb1a8-743b-4494-b56e-aeee461c6418",
   "metadata": {},
   "source": [
    "### Utilizando o built-in method input(), crie um programa que receba a altura e o peso de uma pessoa e imprima na tela o IMC da mesma."
   ]
  },
  {
   "cell_type": "code",
   "execution_count": 16,
   "id": "5fe660f6-b780-4f6c-bc9e-298844f7876c",
   "metadata": {},
   "outputs": [
    {
     "name": "stdout",
     "output_type": "stream",
     "text": [
      "Essa é a calculadora de IMC, por favor informe sua altura:\n"
     ]
    },
    {
     "name": "stdin",
     "output_type": "stream",
     "text": [
      " 1.86\n"
     ]
    },
    {
     "name": "stdout",
     "output_type": "stream",
     "text": [
      "Por favor, informe seu peso:\n"
     ]
    },
    {
     "name": "stdin",
     "output_type": "stream",
     "text": [
      " 81\n"
     ]
    },
    {
     "name": "stdout",
     "output_type": "stream",
     "text": [
      "Calculando...\n",
      "================\n",
      "Seu IMC é 23.41\n"
     ]
    }
   ],
   "source": [
    "import time \n",
    "\n",
    "print(\"Essa é a calculadora de IMC, por favor informe sua altura:\")\n",
    "altura = float(input())\n",
    "print(\"Por favor, informe seu peso:\")\n",
    "peso = float(input())\n",
    "\n",
    "print(\"Calculando...\")\n",
    "print(\"================\")\n",
    "time.sleep(1)\n",
    "print(f\"Seu IMC é {peso / altura ** 2:.2f}\")"
   ]
  },
  {
   "cell_type": "markdown",
   "id": "e3303a34-ca74-4fef-803a-2c3dab747d55",
   "metadata": {},
   "source": [
    "### Escreva um programa que pergunte o nome completo do usuário e cumprimente o mesmo pelo primeiro nome. "
   ]
  },
  {
   "cell_type": "code",
   "execution_count": 22,
   "id": "c9d49464-c85f-4503-a3da-a3ca64684932",
   "metadata": {},
   "outputs": [
    {
     "name": "stdout",
     "output_type": "stream",
     "text": [
      "Por favor insira seu nome completo:\n"
     ]
    },
    {
     "name": "stdin",
     "output_type": "stream",
     "text": [
      " Victor Correa Gomes\n"
     ]
    },
    {
     "name": "stdout",
     "output_type": "stream",
     "text": [
      "Prazer em te conhecer Victor\n"
     ]
    }
   ],
   "source": [
    "print (\"Por favor insira seu nome completo:\")\n",
    "nome = input()\n",
    "nome_slice = nome.split()[0]\n",
    "print(f\"Prazer em te conhecer {nome_slice}\")"
   ]
  },
  {
   "cell_type": "markdown",
   "id": "63be327b-7549-424f-afc8-21e5a12304bd",
   "metadata": {},
   "source": [
    "### Desenho um código que extraia o domínio de um e-mail informado."
   ]
  },
  {
   "cell_type": "code",
   "execution_count": 28,
   "id": "a19d38ba-9383-4ffa-b087-09c0981ec149",
   "metadata": {},
   "outputs": [
    {
     "name": "stdout",
     "output_type": "stream",
     "text": [
      "Insira o seu email para saber o seu domínio:\n"
     ]
    },
    {
     "name": "stdin",
     "output_type": "stream",
     "text": [
      " victor.cgomes@uvvnet.com\n"
     ]
    },
    {
     "name": "stdout",
     "output_type": "stream",
     "text": [
      "O seu domínio é com\n"
     ]
    }
   ],
   "source": [
    "print(\"Insira o seu email para saber o seu domínio:\")\n",
    "domain = input()\n",
    "domain_sliced = domain.split(\".\")[-1]\n",
    "print(f\"O seu domínio é {domain_sliced}\")"
   ]
  },
  {
   "cell_type": "markdown",
   "id": "9b3ca0d8-5e90-4c87-b295-b608257bf4f1",
   "metadata": {},
   "source": [
    "### Faça um programa para uma loja de tintas. A pessoa informa a área em m2 que deseja pintar, e o script calculará a quantidade de latas de tinta que a pessoa deve comprar e o valor. Considere que cada litro de tinta pinta 3m2, que cada lata contém 18L e que custa R$ 80."
   ]
  },
  {
   "cell_type": "code",
   "execution_count": 39,
   "id": "9fe524b5-ea74-4230-aa69-6c5951b848a8",
   "metadata": {},
   "outputs": [
    {
     "name": "stdout",
     "output_type": "stream",
     "text": [
      "Olá, bem vindo a loja TintaMax, por favor insira a área em m2 que deseja pintar: \n"
     ]
    },
    {
     "name": "stdin",
     "output_type": "stream",
     "text": [
      " 6\n"
     ]
    },
    {
     "name": "stdout",
     "output_type": "stream",
     "text": [
      "Calculando...\n",
      "================\n",
      "Para pintar um total de 6.0 m2, você precisará de 1 latas de tinta e gastará um total de R$ 80.00.\n",
      "Você terá uma sobra de 16.00 litros de tinta.\n"
     ]
    }
   ],
   "source": [
    "print(\"Olá, bem vindo a loja TintaMax, por favor insira a área em m2 que deseja pintar: \")\n",
    "area = float(input())\n",
    "volume_needed = area / 3\n",
    "latas = int(volume_needed / 18)\n",
    "if latas == 0 and volume_needed > 0:\n",
    "    latas = 1  \n",
    "sobra = (latas * 18) - volume_needed  \n",
    "print(\"Calculando...\")\n",
    "print(\"================\")\n",
    "time.sleep(1)\n",
    "print(f\"Para pintar um total de {area} m2, você precisará de {latas} latas de tinta e gastará um total de R$ {valor:.2f}.\")\n",
    "print(f\"Você terá uma sobra de {sobra:.2f} litros de tinta.\")\n"
   ]
  },
  {
   "cell_type": "markdown",
   "id": "0da765f4-050a-4ee9-9be3-b1167df779d3",
   "metadata": {},
   "source": [
    "### Faça um Programa que pergunte quanto você ganha por hora e o número de horas trabalhadas no mês. Calcule e mostre o total do seu salário no referido mês, sabendo-se que são descontados 11% para o Imposto de Renda, 8% para o INSS e 5% para o sindicato, faça um programa que nos dê:\n",
    "\n",
    "1. salário bruto.\n",
    "2. quanto pagou ao IR.\n",
    "3. quanto pagou ao INSS.\n",
    "4. quanto pagou ao sindicato.\n",
    "5. o salário líquido."
   ]
  },
  {
   "cell_type": "code",
   "execution_count": 40,
   "id": "13e14e98-459d-46ce-b9ea-9ab908e005b0",
   "metadata": {},
   "outputs": [
    {
     "name": "stdout",
     "output_type": "stream",
     "text": [
      "Calculadora de salário.\n",
      "Informe sua remuneração por horas:\n"
     ]
    },
    {
     "name": "stdin",
     "output_type": "stream",
     "text": [
      " 20\n"
     ]
    },
    {
     "name": "stdout",
     "output_type": "stream",
     "text": [
      "Informe quantas horas trabalhou por mês.\n"
     ]
    },
    {
     "name": "stdin",
     "output_type": "stream",
     "text": [
      " 220\n"
     ]
    },
    {
     "name": "stdout",
     "output_type": "stream",
     "text": [
      "========================\n",
      "1. Salário bruto: R$ 4400.00\n",
      "2. Valor pago de IR: R$ 484.00\n",
      "2. Valor pago de INSS: R$ 313.28\n",
      "4. Valo pago ao sindicato: R$ 180.14\n",
      "5. Salário líquido: R$ 3422.58\n"
     ]
    }
   ],
   "source": [
    "print(\"Calculadora de salário.\")\n",
    "print(\"Informe sua remuneração por horas:\")\n",
    "valor_por_hora = float(input())\n",
    "print(\"Informe quantas horas trabalhou por mês.\")\n",
    "horas_trabalhadas = float(input())\n",
    "\n",
    "salario = valor_por_hora * horas_trabalhadas\n",
    "ir = salario * 0.11\n",
    "inss = (salario - ir) * 0.08\n",
    "sindicato = (salario - ir - inss) * 0.05\n",
    "\n",
    "print(\"========================\")\n",
    "print(\"1. Salário bruto: R$ {:.2f}\".format(salario))\n",
    "print(\"2. Valor pago de IR: R$ {:.2f}\".format(ir))\n",
    "print(\"2. Valor pago de INSS: R$ {:.2f}\".format(inss))\n",
    "print(\"4. Valo pago ao sindicato: R$ {:.2f}\".format(sindicato))\n",
    "print(\"5. Salário líquido: R$ {:.2f}\".format(salario - ir - inss - sindicato ))"
   ]
  },
  {
   "cell_type": "code",
   "execution_count": null,
   "id": "4db42036-e076-41d1-bbb9-cafb35205852",
   "metadata": {},
   "outputs": [],
   "source": []
  }
 ],
 "metadata": {
  "kernelspec": {
   "display_name": "Python 3 (ipykernel)",
   "language": "python",
   "name": "python3"
  },
  "language_info": {
   "codemirror_mode": {
    "name": "ipython",
    "version": 3
   },
   "file_extension": ".py",
   "mimetype": "text/x-python",
   "name": "python",
   "nbconvert_exporter": "python",
   "pygments_lexer": "ipython3",
   "version": "3.9.12"
  }
 },
 "nbformat": 4,
 "nbformat_minor": 5
}
