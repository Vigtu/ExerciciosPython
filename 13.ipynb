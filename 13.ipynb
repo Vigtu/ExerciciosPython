{
 "cells": [
  {
   "cell_type": "markdown",
   "id": "f9272ff3-f1b3-49cd-b4cf-8c0df2ddde1f",
   "metadata": {},
   "source": [
    "### Exercício 1\n",
    "Faça um programa para a leitura de duas notas parciais de um aluno. O programa deve calcular a média alcançada por aluno e apresentar:\n",
    "- A mensagem \"Aprovado\", se a média alcançada for maior ou igual a 7;\n",
    "- A mensagem \"Reprovado\", se a média for menor do que 7;\n",
    "- A mensagem \"Aprovado com Distinção\", se a média for igual a 10."
   ]
  },
  {
   "cell_type": "code",
   "execution_count": 33,
   "id": "c2d82b62-d309-4467-9067-977c8d20c20b",
   "metadata": {},
   "outputs": [
    {
     "name": "stdin",
     "output_type": "stream",
     "text": [
      "Insira a primeira nota: 10\n",
      "Insira a sua segunda nota: 10\n"
     ]
    },
    {
     "name": "stdout",
     "output_type": "stream",
     "text": [
      "Sua média é 10.0\n",
      "Aprovado com Distinção\n"
     ]
    }
   ],
   "source": [
    "grade_one = float(input(\"Insira a primeira nota:\"))\n",
    "grade_two = float(input(\"Insira a sua segunda nota:\"))\n",
    "\n",
    "def notas(x, y):\n",
    "    return (x + y) / 2\n",
    "\n",
    "mean = notas(grade_one, grade_two)\n",
    "\n",
    "print(f\"Sua média é {mean}\")\n",
    "\n",
    "if mean < 7:\n",
    "    print(\"Reprovado\")\n",
    "elif mean >= 7 and mean < 10:\n",
    "    print(\"Aprovado\")\n",
    "elif mean == 10:\n",
    "    print(\"Aprovado com Distinção\")\n",
    "else:\n",
    "    print(\"Por favor ensira as notas novamente\")\n",
    "    "
   ]
  },
  {
   "cell_type": "markdown",
   "id": "7e37efd9-a4c6-45f5-bef1-2b4ff254e2b0",
   "metadata": {},
   "source": [
    "### Exercício 2\n",
    "Escreva um script que leia três números e mostre o maior e o menor deles."
   ]
  },
  {
   "cell_type": "code",
   "execution_count": 62,
   "id": "d8d93e0b-5479-44e1-a2d2-add1ab280b7a",
   "metadata": {
    "scrolled": true
   },
   "outputs": [
    {
     "name": "stdin",
     "output_type": "stream",
     "text": [
      "Insira o primeiro número: 5\n",
      "Insira o segundo número: 10\n",
      "Insira o terceiro número: 1\n"
     ]
    },
    {
     "name": "stdout",
     "output_type": "stream",
     "text": [
      "O maior número é 10\n",
      "O menor número é 1\n"
     ]
    }
   ],
   "source": [
    "numbers_list = []\n",
    "\n",
    "number_one = input(\"Insira o primeiro número:\")\n",
    "number_two = input(\"Insira o segundo número:\")\n",
    "number_three = input(\"Insira o terceiro número:\")\n",
    "\n",
    "numbers_list = [int(number_one), int(number_two), int(number_three)]\n",
    "numbers_list.sort()\n",
    "\n",
    "higher_number = numbers_list[-1]\n",
    "lower_number = numbers_list[0]\n",
    "\n",
    "print(f\"O maior número é {higher_number}\")\n",
    "print(f\"O menor número é {lower_number}\")\n"
   ]
  },
  {
   "cell_type": "markdown",
   "id": "5ba270ec-7cfd-4518-9123-42d92e9a0131",
   "metadata": {},
   "source": [
    "### Exercício 3 \n",
    "Nome na vertical em escada. \n",
    "\n",
    "F<br>\n",
    "FU<br>\n",
    "FUL<br>\n",
    "FULA<br>\n",
    "FULAN<br>\n",
    "FULANO<br>"
   ]
  },
  {
   "cell_type": "code",
   "execution_count": 78,
   "id": "4bc7e1bd-0371-4743-aba2-d1113ca75555",
   "metadata": {},
   "outputs": [
    {
     "name": "stdin",
     "output_type": "stream",
     "text": [
      "Insira o seu primeiro nome: Victor\n"
     ]
    },
    {
     "name": "stdout",
     "output_type": "stream",
     "text": [
      "V\n",
      "Vi\n",
      "Vic\n",
      "Vict\n",
      "Victo\n",
      "Victor\n"
     ]
    }
   ],
   "source": [
    "name = str(input(\"Insira o seu primeiro nome:\"))\n",
    "name_list = list(nome.upper())\n",
    "\n",
    "for words in range(1, len(name) + 1):\n",
    "    print(name[:words])"
   ]
  },
  {
   "cell_type": "markdown",
   "id": "81ae5d3b-5601-48ae-81ef-90ae887c53b2",
   "metadata": {},
   "source": [
    "### Exercício 4\n",
    "A série de Fibonacci é formada pela seqüência 1,1,2,3,5,8,13,21,34,55,... (o próximo termo, a partir do terceiro, é sempre gerado a partir do somatório dos últimos dois). Faça um programa capaz de gerar a série até o n−ésimo termo (onde o valor n deve ser inserido pelo usuário)."
   ]
  },
  {
   "cell_type": "code",
   "execution_count": null,
   "id": "c7c2da0b-9c32-40b9-9250-ad9f111a9d72",
   "metadata": {},
   "outputs": [],
   "source": []
  }
 ],
 "metadata": {
  "kernelspec": {
   "display_name": "Python 3 (ipykernel)",
   "language": "python",
   "name": "python3"
  },
  "language_info": {
   "codemirror_mode": {
    "name": "ipython",
    "version": 3
   },
   "file_extension": ".py",
   "mimetype": "text/x-python",
   "name": "python",
   "nbconvert_exporter": "python",
   "pygments_lexer": "ipython3",
   "version": "3.9.12"
  }
 },
 "nbformat": 4,
 "nbformat_minor": 5
}
